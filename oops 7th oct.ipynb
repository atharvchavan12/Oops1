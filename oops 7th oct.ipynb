{
 "cells": [
  {
   "cell_type": "code",
   "execution_count": 9,
   "id": "8b6a7b1a-3ff5-4b22-be3e-d3b2d7aa7e3a",
   "metadata": {},
   "outputs": [],
   "source": [
    "class a :\n",
    "    \n",
    "    def test(self):\n",
    "        print(\"this test method is a part of class a\")\n",
    "        \n",
    "    def test1(self):\n",
    "        print(\"this is test1 from class a \")"
   ]
  },
  {
   "cell_type": "code",
   "execution_count": 10,
   "id": "8e4d306f-fdb4-47a0-a93d-597f5b21d30b",
   "metadata": {},
   "outputs": [],
   "source": [
    "obj_a = a()"
   ]
  },
  {
   "cell_type": "code",
   "execution_count": 11,
   "id": "81ef5597-cf96-4ed9-a4f6-21e2e93aca70",
   "metadata": {},
   "outputs": [
    {
     "name": "stdout",
     "output_type": "stream",
     "text": [
      "this test method is a part of class a\n"
     ]
    }
   ],
   "source": [
    "obj_a.test()"
   ]
  },
  {
   "cell_type": "code",
   "execution_count": 16,
   "id": "11ee63d6-433d-48dc-ada0-5dd6771310ba",
   "metadata": {},
   "outputs": [],
   "source": [
    "class b(a) :\n",
    "    def test1b(self):\n",
    "        print(\"this is a part of class b \")"
   ]
  },
  {
   "cell_type": "code",
   "execution_count": 17,
   "id": "badaedfe-57d1-43c6-9193-e5afb0f31dbc",
   "metadata": {},
   "outputs": [],
   "source": [
    "obj_b = b()"
   ]
  },
  {
   "cell_type": "code",
   "execution_count": 18,
   "id": "3ce19f61-ba8e-4050-9d4d-614adfd964c5",
   "metadata": {},
   "outputs": [
    {
     "name": "stdout",
     "output_type": "stream",
     "text": [
      "this test method is a part of class a\n"
     ]
    }
   ],
   "source": [
    "obj_b.test()"
   ]
  },
  {
   "cell_type": "code",
   "execution_count": 19,
   "id": "5e473fae-e094-4407-99df-16a04ab4c80a",
   "metadata": {},
   "outputs": [
    {
     "name": "stdout",
     "output_type": "stream",
     "text": [
      "this is test1 from class a \n"
     ]
    }
   ],
   "source": [
    "obj_b.test1()"
   ]
  },
  {
   "cell_type": "code",
   "execution_count": null,
   "id": "02a8f055-535f-4bc2-adc1-575445f82570",
   "metadata": {},
   "outputs": [],
   "source": [
    "obj_b."
   ]
  },
  {
   "cell_type": "code",
   "execution_count": 21,
   "id": "59361cd3-c0c4-4ddd-abac-cbe3275ade5f",
   "metadata": {},
   "outputs": [],
   "source": [
    "class lecture:\n",
    "    \n",
    "    def topic(self):\n",
    "        print(\"todays class we are discussing about inheritance condept in oops\")\n",
    "        \n",
    "    def timing(self):\n",
    "        print(\"timing for todays class is 9 AM IST\")\n",
    "        \n",
    "    def end_time(self):\n",
    "        print(\"today i will try to end class bit early\")"
   ]
  },
  {
   "cell_type": "code",
   "execution_count": 23,
   "id": "6e3dd2de-883e-4e9e-98a0-4a7089af1627",
   "metadata": {},
   "outputs": [],
   "source": [
    "class student(lecture):\n",
    "    \n",
    "    def student_details(self):\n",
    "        print(\"this class will give you a student details\")"
   ]
  },
  {
   "cell_type": "code",
   "execution_count": 24,
   "id": "c2ad2a89-0f29-4410-86c4-e33f47b4186d",
   "metadata": {},
   "outputs": [],
   "source": [
    "naval = student()"
   ]
  },
  {
   "cell_type": "code",
   "execution_count": 25,
   "id": "38c86e7f-5560-464a-b597-c88a74819f1a",
   "metadata": {},
   "outputs": [
    {
     "name": "stdout",
     "output_type": "stream",
     "text": [
      "todays class we are discussing about inheritance condept in oops\n"
     ]
    }
   ],
   "source": [
    "naval.topic()"
   ]
  },
  {
   "cell_type": "code",
   "execution_count": 26,
   "id": "02efc8a4-f995-4f85-87d2-620ccc0f61fa",
   "metadata": {},
   "outputs": [
    {
     "name": "stdout",
     "output_type": "stream",
     "text": [
      "timing for todays class is 9 AM IST\n"
     ]
    }
   ],
   "source": [
    "satish = student()\n",
    "satish.timing()"
   ]
  },
  {
   "cell_type": "code",
   "execution_count": 28,
   "id": "03932972-a58b-46e5-a3f8-ffc43c84ce53",
   "metadata": {},
   "outputs": [],
   "source": [
    "class teacher(student):\n",
    "    def details(self):\n",
    "        print(\"this will give you a details about teacher\")"
   ]
  },
  {
   "cell_type": "code",
   "execution_count": 29,
   "id": "fff36c1b-f1e9-467e-b29f-c304aa9feec9",
   "metadata": {},
   "outputs": [
    {
     "name": "stdout",
     "output_type": "stream",
     "text": [
      "timing for todays class is 9 AM IST\n"
     ]
    }
   ],
   "source": [
    "sudh = teacher()\n",
    "sudh.timing()"
   ]
  },
  {
   "cell_type": "code",
   "execution_count": 39,
   "id": "a5e8c94b-de62-4ef5-8eba-81259d83dd3d",
   "metadata": {},
   "outputs": [],
   "source": [
    "class lecture:\n",
    "    def topic(self):\n",
    "        print(\"todays class we are discussing about inheritance condept in oops\")\n",
    "        \n",
    "    def timing(self):\n",
    "        print(\"timing for todays class is 9 AM IST\")\n",
    "        \n",
    "    def end_time(self):\n",
    "        print(\"today i will try to end class bit early\")"
   ]
  },
  {
   "cell_type": "code",
   "execution_count": 40,
   "id": "2007141c-1b71-4cd4-9bed-a3cd8d851baa",
   "metadata": {},
   "outputs": [],
   "source": [
    "class student:\n",
    "    \n",
    "    def student_details(self):\n",
    "        print(\"this class will give you a student details\")\n",
    "        \n",
    "    def timing(self):\n",
    "        print(\"this is a timing fun from student class\")\n",
    "        "
   ]
  },
  {
   "cell_type": "code",
   "execution_count": 48,
   "id": "272860d3-1fac-475b-8c09-0490069224bc",
   "metadata": {},
   "outputs": [],
   "source": [
    "class teacher(lecture,student):\n",
    "    def details(self):\n",
    "        print(\"this will give you a details about teacher\")"
   ]
  },
  {
   "cell_type": "code",
   "execution_count": 49,
   "id": "f4a9ae16-f0e3-4a4a-a003-38773611cd2a",
   "metadata": {},
   "outputs": [],
   "source": [
    "krish = teacher()"
   ]
  },
  {
   "cell_type": "code",
   "execution_count": 50,
   "id": "6dc85f37-219e-4c72-927c-9aebb550fea9",
   "metadata": {},
   "outputs": [
    {
     "name": "stdout",
     "output_type": "stream",
     "text": [
      "timing for todays class is 9 AM IST\n"
     ]
    }
   ],
   "source": [
    "krish.timing()"
   ]
  },
  {
   "cell_type": "code",
   "execution_count": 37,
   "id": "8bcbac88-9172-4a31-a191-9c4b9a1c6eac",
   "metadata": {},
   "outputs": [
    {
     "name": "stdout",
     "output_type": "stream",
     "text": [
      "this class will give you a student details\n"
     ]
    }
   ],
   "source": [
    "krish.student_details()"
   ]
  },
  {
   "cell_type": "markdown",
   "id": "86b47d4f-860e-4702-83a0-0145887ab41a",
   "metadata": {},
   "source": [
    "Problem 1: Bank Account Create a class representing a bank account with attributes like account number, account holder name, and balance. Implement methods to deposit and withdraw money from the account.\n",
    "\n",
    "Problem 2: Employee Management Create a class representing an employee with attributes like employee ID, name, and salary. Implement methods to calculate the yearly bonus and display employee details.\n",
    "\n",
    "Problem 3: Vehicle Rental Create a class representing a vehicle rental system. Implement methods to rent a vehicle, return a vehicle, and display available vehicles.\n",
    "\n",
    "Problem 4: Library Catalog Create classes representing a library and a book. Implement methods to add books to the library, borrow books, and display available books.\n",
    "\n",
    "Problem 5: Product Inventory Create classes representing a product and an inventory system. Implement methods to add products to the inventory, update product quantity, and display available products.\n",
    "\n",
    "Problem 6: Shape Calculation Create a class representing a shape with attributes like length, width, and height. Implement methods to calculate the area and perimeter of the shape.\n",
    "\n",
    "Problem 7: Student Management Create a class representing a student with attributes like student ID, name, and grades. Implement methods to calculate the average grade and display student details.\n",
    "\n",
    "Problem 8: Email Management Create a class representing an email with attributes like sender, recipient, and subject. Implement methods to send an email and display email details.\n",
    "\n",
    "Problem 9: Social Media Profile Create a class representing a social media profile with attributes like username and posts. Implement methods to add posts, display posts, and search for posts by keyword.\n",
    "\n",
    "Problem 10: ToDo List Create a class representing a ToDo list with attributes like tasks and due dates. Implement methods to add tasks, mark tasks as completed, and display pending tasks."
   ]
  },
  {
   "cell_type": "code",
   "execution_count": 1,
   "id": "fef1683a-faa4-4d27-a0a6-7a742e512e9b",
   "metadata": {},
   "outputs": [
    {
     "name": "stdout",
     "output_type": "stream",
     "text": [
      "Account Holder: John Doe\n",
      "Account Number: 123456789\n",
      "Current Balance: 1000\n",
      "Deposited 500 units successfully. Current balance: 1500\n",
      "Withdrawn 200 units successfully. Current balance: 1300\n",
      "Invalid withdrawal amount or insufficient funds.\n"
     ]
    }
   ],
   "source": [
    "#Problem 1: Bank Account Create a class representing a bank account with attributes like account number, account holder name, and balance. Implement methods to deposit and withdraw money from the account.\n",
    "class BankAccount:\n",
    "    def __init__(self, account_number, account_holder_name, balance=0):\n",
    "        self.account_number = account_number\n",
    "        self.account_holder_name = account_holder_name\n",
    "        self.balance = balance\n",
    "\n",
    "    def deposit(self, amount):\n",
    "        if amount > 0:\n",
    "            self.balance += amount\n",
    "            print(f\"Deposited {amount} units successfully. Current balance: {self.balance}\")\n",
    "        else:\n",
    "            print(\"Invalid deposit amount. Amount must be greater than zero.\")\n",
    "\n",
    "    def withdraw(self, amount):\n",
    "        if amount > 0 and amount <= self.balance:\n",
    "            self.balance -= amount\n",
    "            print(f\"Withdrawn {amount} units successfully. Current balance: {self.balance}\")\n",
    "        else:\n",
    "            print(\"Invalid withdrawal amount or insufficient funds.\")\n",
    "\n",
    "    def display_balance(self):\n",
    "        print(f\"Account Holder: {self.account_holder_name}\")\n",
    "        print(f\"Account Number: {self.account_number}\")\n",
    "        print(f\"Current Balance: {self.balance}\")\n",
    "\n",
    "\n",
    "# Test the BankAccount class\n",
    "account1 = BankAccount(\"123456789\", \"John Doe\", 1000)\n",
    "account1.display_balance()\n",
    "account1.deposit(500)\n",
    "account1.withdraw(200)\n",
    "account1.withdraw(1500)  # Should display an error message\n"
   ]
  },
  {
   "cell_type": "code",
   "execution_count": 2,
   "id": "b3988d19-f3ba-45ee-8b35-5aa92d82b030",
   "metadata": {},
   "outputs": [
    {
     "name": "stdout",
     "output_type": "stream",
     "text": [
      "Employee ID: E123\n",
      "Name: Alice\n",
      "Salary: $50000\n",
      "Yearly Bonus: $5000.0\n"
     ]
    }
   ],
   "source": [
    "#Problem 2: Employee Management Create a class representing an employee with attributes like employee ID, name, and salary. Implement methods to calculate the yearly bonus and display employee details.\n",
    "class Employee:\n",
    "    def __init__(self, employee_id, name, salary):\n",
    "        self.employee_id = employee_id\n",
    "        self.name = name\n",
    "        self.salary = salary\n",
    "\n",
    "    def calculate_yearly_bonus(self, percentage):\n",
    "        bonus = (percentage / 100) * self.salary\n",
    "        return bonus\n",
    "\n",
    "    def display_details(self):\n",
    "        print(f\"Employee ID: {self.employee_id}\")\n",
    "        print(f\"Name: {self.name}\")\n",
    "        print(f\"Salary: ${self.salary}\")\n",
    "\n",
    "# Test the Employee class\n",
    "employee1 = Employee(\"E123\", \"Alice\", 50000)\n",
    "employee1.display_details()\n",
    "\n",
    "bonus_percentage = 10\n",
    "yearly_bonus = employee1.calculate_yearly_bonus(bonus_percentage)\n",
    "print(f\"Yearly Bonus: ${yearly_bonus}\")\n"
   ]
  },
  {
   "cell_type": "code",
   "execution_count": 3,
   "id": "5b883b0d-6f90-499d-a64d-980db87ff924",
   "metadata": {},
   "outputs": [
    {
     "name": "stdout",
     "output_type": "stream",
     "text": [
      "Available vehicles:\n",
      "Toyota Camry (2018) - available\n",
      "Honda Accord (2019) - available\n",
      "Vehicle 001 rented successfully.\n",
      "Vehicle 001 returned successfully.\n"
     ]
    }
   ],
   "source": [
    "#Problem 3: Vehicle Rental Create a class representing a vehicle rental system. Implement methods to rent a vehicle, return a vehicle, and display available vehicles.\n",
    "class Vehicle:\n",
    "    def __init__(self, vehicle_id, make, model, year, available=True):\n",
    "        self.vehicle_id = vehicle_id\n",
    "        self.make = make\n",
    "        self.model = model\n",
    "        self.year = year\n",
    "        self.available = available\n",
    "\n",
    "    def rent(self):\n",
    "        if self.available:\n",
    "            self.available = False\n",
    "            print(f\"Vehicle {self.vehicle_id} rented successfully.\")\n",
    "        else:\n",
    "            print(\"Vehicle is not available for rent.\")\n",
    "\n",
    "    def return_vehicle(self):\n",
    "        if not self.available:\n",
    "            self.available = True\n",
    "            print(f\"Vehicle {self.vehicle_id} returned successfully.\")\n",
    "        else:\n",
    "            print(\"Vehicle is already available.\")\n",
    "\n",
    "    def __str__(self):\n",
    "        availability = \"available\" if self.available else \"not available\"\n",
    "        return f\"{self.make} {self.model} ({self.year}) - {availability}\"\n",
    "\n",
    "\n",
    "class RentalSystem:\n",
    "    def __init__(self):\n",
    "        self.vehicles = []\n",
    "\n",
    "    def add_vehicle(self, vehicle):\n",
    "        self.vehicles.append(vehicle)\n",
    "\n",
    "    def display_available_vehicles(self):\n",
    "        available_vehicles = [vehicle for vehicle in self.vehicles if vehicle.available]\n",
    "        if available_vehicles:\n",
    "            print(\"Available vehicles:\")\n",
    "            for vehicle in available_vehicles:\n",
    "                print(vehicle)\n",
    "        else:\n",
    "            print(\"No vehicles available for rent.\")\n",
    "\n",
    "    def rent_vehicle(self, vehicle_id):\n",
    "        for vehicle in self.vehicles:\n",
    "            if vehicle.vehicle_id == vehicle_id:\n",
    "                vehicle.rent()\n",
    "                return\n",
    "        print(\"Vehicle not found.\")\n",
    "\n",
    "    def return_vehicle(self, vehicle_id):\n",
    "        for vehicle in self.vehicles:\n",
    "            if vehicle.vehicle_id == vehicle_id:\n",
    "                vehicle.return_vehicle()\n",
    "                return\n",
    "        print(\"Vehicle not found.\")\n",
    "\n",
    "\n",
    "# Example usage:\n",
    "if __name__ == \"__main__\":\n",
    "    rental_system = RentalSystem()\n",
    "\n",
    "    # Adding vehicles to the system\n",
    "    rental_system.add_vehicle(Vehicle(\"001\", \"Toyota\", \"Camry\", 2018))\n",
    "    rental_system.add_vehicle(Vehicle(\"002\", \"Honda\", \"Accord\", 2019))\n",
    "    rental_system.add_vehicle(Vehicle(\"003\", \"Ford\", \"Escape\", 2020, available=False))\n",
    "\n",
    "    # Display available vehicles\n",
    "    rental_system.display_available_vehicles()\n",
    "\n",
    "    # Rent a vehicle\n",
    "    rental_system.rent_vehicle(\"001\")\n",
    "\n",
    "    # Return a vehicle\n",
    "    rental_system.return_vehicle(\"001\")\n"
   ]
  },
  {
   "cell_type": "code",
   "execution_count": 11,
   "id": "9357def9-9f96-4289-804f-52addb9b592a",
   "metadata": {},
   "outputs": [
    {
     "name": "stdout",
     "output_type": "stream",
     "text": [
      "Available books:\n",
      "'To Kill a Mockingbird' by Harper Lee - available\n",
      "'Pride and Prejudice' by Jane Austen - available\n",
      "Book 'To Kill a Mockingbird' by Harper Lee borrowed successfully.\n",
      "Book 'To Kill a Mockingbird' by Harper Lee returned successfully.\n"
     ]
    }
   ],
   "source": [
    "#Problem 4: Library Catalog Create classes representing a library and a book. Implement methods to add books to the library, borrow books, and display available books.\n",
    "\n",
    "class Book:\n",
    "    def __init__(self, book_id, title, author, available=True):\n",
    "        self.book_id = book_id\n",
    "        self.title = title\n",
    "        self.author = author\n",
    "        self.available = available\n",
    "\n",
    "    def borrow(self):\n",
    "        if self.available:\n",
    "            self.available = False\n",
    "            print(f\"Book '{self.title}' by {self.author} borrowed successfully.\")\n",
    "        else:\n",
    "            print(\"Book is not available for borrowing.\")\n",
    "\n",
    "    def return_book(self):\n",
    "        if not self.available:\n",
    "            self.available = True\n",
    "            print(f\"Book '{self.title}' by {self.author} returned successfully.\")\n",
    "        else:\n",
    "            print(\"Book is already available.\")\n",
    "\n",
    "    def __str__(self):\n",
    "        availability = \"available\" if self.available else \"not available\"\n",
    "        return f\"'{self.title}' by {self.author} - {availability}\"\n",
    "\n",
    "\n",
    "class Library:\n",
    "    def __init__(self):\n",
    "        self.books = []\n",
    "\n",
    "    def add_book(self, book):\n",
    "        self.books.append(book)\n",
    "\n",
    "    def display_available_books(self):\n",
    "        available_books = [book for book in self.books if book.available]\n",
    "        if available_books:\n",
    "            print(\"Available books:\")\n",
    "            for book in available_books:\n",
    "                print(book)\n",
    "        else:\n",
    "            print(\"No books available.\")\n",
    "\n",
    "    def borrow_book(self, book_id):\n",
    "        for book in self.books:\n",
    "            if book.book_id == book_id:\n",
    "                book.borrow()\n",
    "                return\n",
    "        print(\"Book not found.\")\n",
    "\n",
    "    def return_book(self, book_id):\n",
    "        for book in self.books:\n",
    "            if book.book_id == book_id:\n",
    "                book.return_book()\n",
    "                return\n",
    "        print(\"Book not found.\")\n",
    "\n",
    "\n",
    "# Example usage:\n",
    "if __name__ == \"__main__\":\n",
    "    library = Library()\n",
    "\n",
    "    # Adding books to the library\n",
    "    library.add_book(Book(\"001\", \"To Kill a Mockingbird\", \"Harper Lee\"))\n",
    "    library.add_book(Book(\"002\", \"1984\", \"George Orwell\", available=False))\n",
    "    library.add_book(Book(\"003\", \"Pride and Prejudice\", \"Jane Austen\"))\n",
    "\n",
    "    # Display available books\n",
    "    library.display_available_books()\n",
    "\n",
    "    # Borrow a book\n",
    "    library.borrow_book(\"001\")\n",
    "\n",
    "    # Return a book\n",
    "    library.return_book(\"001\")\n"
   ]
  },
  {
   "cell_type": "code",
   "execution_count": 12,
   "id": "616b6362-bcba-4986-975e-c487e5b17e60",
   "metadata": {},
   "outputs": [
    {
     "name": "stdout",
     "output_type": "stream",
     "text": [
      "Available products:\n",
      "Laptop - $1000 - Quantity: 10\n",
      "Smartphone - $500 - Quantity: 20\n",
      "Tablet - $300 - Quantity: 15\n",
      "Available products:\n",
      "Laptop - $1000 - Quantity: 5\n",
      "Smartphone - $500 - Quantity: 20\n",
      "Tablet - $300 - Quantity: 15\n"
     ]
    }
   ],
   "source": [
    "#Problem 5: Product Inventory Create classes representing a product and an inventory system. Implement methods to add products to the inventory, update product quantity, and display available products.\n",
    "\n",
    "class Product:\n",
    "    def __init__(self, product_id, name, price, quantity):\n",
    "        self.product_id = product_id\n",
    "        self.name = name\n",
    "        self.price = price\n",
    "        self.quantity = quantity\n",
    "\n",
    "    def update_quantity(self, new_quantity):\n",
    "        self.quantity = new_quantity\n",
    "\n",
    "    def __str__(self):\n",
    "        return f\"{self.name} - ${self.price} - Quantity: {self.quantity}\"\n",
    "\n",
    "\n",
    "class Inventory:\n",
    "    def __init__(self):\n",
    "        self.products = []\n",
    "\n",
    "    def add_product(self, product):\n",
    "        self.products.append(product)\n",
    "\n",
    "    def display_available_products(self):\n",
    "        if self.products:\n",
    "            print(\"Available products:\")\n",
    "            for product in self.products:\n",
    "                print(product)\n",
    "        else:\n",
    "            print(\"No products available.\")\n",
    "\n",
    "\n",
    "# Example usage:\n",
    "if __name__ == \"__main__\":\n",
    "    inventory = Inventory()\n",
    "\n",
    "    # Adding products to the inventory\n",
    "    inventory.add_product(Product(\"001\", \"Laptop\", 1000, 10))\n",
    "    inventory.add_product(Product(\"002\", \"Smartphone\", 500, 20))\n",
    "    inventory.add_product(Product(\"003\", \"Tablet\", 300, 15))\n",
    "\n",
    "    # Display available products\n",
    "    inventory.display_available_products()\n",
    "\n",
    "    # Update product quantity\n",
    "    product_id = \"001\"\n",
    "    new_quantity = 5\n",
    "    for product in inventory.products:\n",
    "        if product.product_id == product_id:\n",
    "            product.update_quantity(new_quantity)\n",
    "\n",
    "    # Display available products after updating quantity\n",
    "    inventory.display_available_products()\n"
   ]
  },
  {
   "cell_type": "code",
   "execution_count": 13,
   "id": "141ac195-6aba-4e20-84b4-67eab4d3a562",
   "metadata": {},
   "outputs": [
    {
     "name": "stdout",
     "output_type": "stream",
     "text": [
      "Rectangle Area: 20\n",
      "Rectangle Perimeter: 18\n",
      "Triangle Area: 6.0\n",
      "Triangle Perimeter: 12\n"
     ]
    }
   ],
   "source": [
    "#Problem 6: Shape Calculation Create a class representing a shape with attributes like length, width, and height. Implement methods to calculate the area and perimeter of the shape.\n",
    "\n",
    "class Shape:\n",
    "    def __init__(self, length, width, height):\n",
    "        self.length = length\n",
    "        self.width = width\n",
    "        self.height = height\n",
    "\n",
    "    def calculate_area(self):\n",
    "        raise NotImplementedError(\"Subclass must implement abstract method\")\n",
    "\n",
    "    def calculate_perimeter(self):\n",
    "        raise NotImplementedError(\"Subclass must implement abstract method\")\n",
    "\n",
    "\n",
    "class Rectangle(Shape):\n",
    "    def calculate_area(self):\n",
    "        return self.length * self.width\n",
    "\n",
    "    def calculate_perimeter(self):\n",
    "        return 2 * (self.length + self.width)\n",
    "\n",
    "\n",
    "class Triangle(Shape):\n",
    "    def calculate_area(self):\n",
    "        # Using Heron's formula to calculate the area of a triangle\n",
    "        s = (self.length + self.width + self.height) / 2\n",
    "        return (s * (s - self.length) * (s - self.width) * (s - self.height)) ** 0.5\n",
    "\n",
    "    def calculate_perimeter(self):\n",
    "        return self.length + self.width + self.height\n",
    "\n",
    "\n",
    "# Example usage:\n",
    "if __name__ == \"__main__\":\n",
    "    rectangle = Rectangle(5, 4, 0)  # Assuming height is 0 for a rectangle\n",
    "    print(\"Rectangle Area:\", rectangle.calculate_area())\n",
    "    print(\"Rectangle Perimeter:\", rectangle.calculate_perimeter())\n",
    "\n",
    "    triangle = Triangle(3, 4, 5)\n",
    "    print(\"Triangle Area:\", triangle.calculate_area())\n",
    "    print(\"Triangle Perimeter:\", triangle.calculate_perimeter())\n"
   ]
  },
  {
   "cell_type": "code",
   "execution_count": 14,
   "id": "18c33ed7-b9f6-4407-99b4-bed4cab2a673",
   "metadata": {},
   "outputs": [
    {
     "name": "stdout",
     "output_type": "stream",
     "text": [
      "Student ID: 101\n",
      "Name: Alice\n",
      "Grades: [85, 90, 92, 88, 95]\n",
      "Average Grade: 90.0\n",
      "Student ID: 102\n",
      "Name: Bob\n",
      "Grades: [78, 80, 82, 75, 85]\n",
      "Average Grade: 80.0\n"
     ]
    }
   ],
   "source": [
    "#Problem 7: Student Management Create a class representing a student with attributes like student ID, name, and grades. Implement methods to calculate the average grade and display student details.\n",
    "\n",
    "class Student:\n",
    "    def __init__(self, student_id, name, grades):\n",
    "        self.student_id = student_id\n",
    "        self.name = name\n",
    "        self.grades = grades\n",
    "\n",
    "    def calculate_average_grade(self):\n",
    "        if self.grades:\n",
    "            return sum(self.grades) / len(self.grades)\n",
    "        else:\n",
    "            return 0\n",
    "\n",
    "    def display_details(self):\n",
    "        print(\"Student ID:\", self.student_id)\n",
    "        print(\"Name:\", self.name)\n",
    "        print(\"Grades:\", self.grades)\n",
    "        print(\"Average Grade:\", self.calculate_average_grade())\n",
    "\n",
    "\n",
    "# Example usage:\n",
    "if __name__ == \"__main__\":\n",
    "    student1 = Student(101, \"Alice\", [85, 90, 92, 88, 95])\n",
    "    student1.display_details()\n",
    "\n",
    "    student2 = Student(102, \"Bob\", [78, 80, 82, 75, 85])\n",
    "    student2.display_details()\n"
   ]
  },
  {
   "cell_type": "code",
   "execution_count": 16,
   "id": "e97a802d-d423-4bfa-9a6b-16894771157d",
   "metadata": {},
   "outputs": [
    {
     "name": "stdout",
     "output_type": "stream",
     "text": [
      "Email sent!\n",
      "Sender: pwskills@example.com\n",
      "Recipient: recipient@example.com\n",
      "Subject: Test Email\n",
      "Message: This is a test email message.\n",
      "\n",
      "Email Details:\n",
      "Sender: pwskills@example.com\n",
      "Recipient: recipient@example.com\n",
      "Subject: Test Email\n",
      "Message: This is a test email message.\n"
     ]
    }
   ],
   "source": [
    "#Problem 8: Email Management Create a class representing an email with attributes like sender, recipient, and subject. Implement methods to send an email and display email details.\n",
    "class Email:\n",
    "    def __init__(self, sender, recipient, subject, message):\n",
    "        self.sender = sender\n",
    "        self.recipient = recipient\n",
    "        self.subject = subject\n",
    "        self.message = message\n",
    "\n",
    "    def send_email(self):\n",
    "        print(\"Email sent!\")\n",
    "        print(\"Sender:\", self.sender)\n",
    "        print(\"Recipient:\", self.recipient)\n",
    "        print(\"Subject:\", self.subject)\n",
    "        print(\"Message:\", self.message)\n",
    "\n",
    "    def display_details(self):\n",
    "        print(\"Sender:\", self.sender)\n",
    "        print(\"Recipient:\", self.recipient)\n",
    "        print(\"Subject:\", self.subject)\n",
    "        print(\"Message:\", self.message)\n",
    "\n",
    "\n",
    "# Example usage:\n",
    "if __name__ == \"__main__\":\n",
    "    email = Email(\"pwskills@example.com\", \"recipient@example.com\", \"Test Email\", \"This is a test email message.\")\n",
    "    email.send_email()\n",
    "\n",
    "    print(\"\\nEmail Details:\")\n",
    "    email.display_details()\n",
    "\n"
   ]
  },
  {
   "cell_type": "code",
   "execution_count": 17,
   "id": "46bad901-0dd4-4ff3-8af6-e641cf92e2ec",
   "metadata": {},
   "outputs": [
    {
     "name": "stdout",
     "output_type": "stream",
     "text": [
      "Posts by john_doe:\n",
      "- Just posted a new photo!\n",
      "- Feeling excited about the weekend!\n",
      "- Enjoying my vacation!\n",
      "\n",
      "Posts containing keyword 'excited' by john_doe:\n",
      "- Feeling excited about the weekend!\n"
     ]
    }
   ],
   "source": [
    "#Problem 9: Social Media Profile Create a class representing a social media profile with attributes like username and posts. Implement methods to add posts, display posts, and search for posts by keyword.\n",
    "class SocialMediaProfile:\n",
    "    def __init__(self, username):\n",
    "        self.username = username\n",
    "        self.posts = []\n",
    "\n",
    "    def add_post(self, post):\n",
    "        self.posts.append(post)\n",
    "\n",
    "    def display_posts(self):\n",
    "        if self.posts:\n",
    "            print(\"Posts by\", self.username + \":\")\n",
    "            for post in self.posts:\n",
    "                print(\"-\", post)\n",
    "        else:\n",
    "            print(\"No posts available for\", self.username)\n",
    "\n",
    "    def search_posts(self, keyword):\n",
    "        matching_posts = [post for post in self.posts if keyword in post]\n",
    "        if matching_posts:\n",
    "            print(\"Posts containing keyword '{}' by {}:\".format(keyword, self.username))\n",
    "            for post in matching_posts:\n",
    "                print(\"-\", post)\n",
    "        else:\n",
    "            print(\"No posts containing keyword '{}' found for {}\".format(keyword, self.username))\n",
    "\n",
    "\n",
    "# Example usage:\n",
    "if __name__ == \"__main__\":\n",
    "    profile = SocialMediaProfile(\"john_doe\")\n",
    "    profile.add_post(\"Just posted a new photo!\")\n",
    "    profile.add_post(\"Feeling excited about the weekend!\")\n",
    "    profile.add_post(\"Enjoying my vacation!\")\n",
    "    \n",
    "    profile.display_posts()\n",
    "    print()\n",
    "\n",
    "    profile.search_posts(\"excited\")\n",
    "\n"
   ]
  },
  {
   "cell_type": "code",
   "execution_count": 18,
   "id": "d7b03bdd-0e5a-4236-b933-49d6710dee8b",
   "metadata": {},
   "outputs": [
    {
     "name": "stdout",
     "output_type": "stream",
     "text": [
      "Pending tasks:\n",
      "- Task: Complete project | Due Date: 2024-04-30\n",
      "- Task: Prepare presentation | Due Date: 2024-05-05\n",
      "- Task: Submit report | Due Date: 2024-05-10\n",
      "\n",
      "Task 'Complete project' marked as completed.\n",
      "Pending tasks:\n",
      "- Task: Prepare presentation | Due Date: 2024-05-05\n",
      "- Task: Submit report | Due Date: 2024-05-10\n"
     ]
    }
   ],
   "source": [
    "#Problem 10: ToDo List Create a class representing a ToDo list with attributes like tasks and due dates. Implement methods to add tasks, mark tasks as completed, and display pending tasks.\n",
    "class ToDoList:\n",
    "    def __init__(self):\n",
    "        self.tasks = {}\n",
    "\n",
    "    def add_task(self, task, due_date):\n",
    "        self.tasks[task] = due_date\n",
    "\n",
    "    def mark_task_completed(self, task):\n",
    "        if task in self.tasks:\n",
    "            del self.tasks[task]\n",
    "            print(\"Task '{}' marked as completed.\".format(task))\n",
    "        else:\n",
    "            print(\"Task '{}' not found in the ToDo list.\".format(task))\n",
    "\n",
    "    def display_pending_tasks(self):\n",
    "        if self.tasks:\n",
    "            print(\"Pending tasks:\")\n",
    "            for task, due_date in self.tasks.items():\n",
    "                print(\"- Task:\", task, \"| Due Date:\", due_date)\n",
    "        else:\n",
    "            print(\"No pending tasks in the ToDo list.\")\n",
    "\n",
    "\n",
    "# Example usage:\n",
    "if __name__ == \"__main__\":\n",
    "    todo_list = ToDoList()\n",
    "    todo_list.add_task(\"Complete project\", \"2024-04-30\")\n",
    "    todo_list.add_task(\"Prepare presentation\", \"2024-05-05\")\n",
    "    todo_list.add_task(\"Submit report\", \"2024-05-10\")\n",
    "\n",
    "    todo_list.display_pending_tasks()\n",
    "    print()\n",
    "\n",
    "    todo_list.mark_task_completed(\"Complete project\")\n",
    "\n",
    "    todo_list.display_pending_tasks()\n"
   ]
  },
  {
   "cell_type": "code",
   "execution_count": null,
   "id": "3a661797-3778-40b6-b8cd-16ebaa4d1d65",
   "metadata": {},
   "outputs": [],
   "source": []
  }
 ],
 "metadata": {
  "kernelspec": {
   "display_name": "Python 3 (ipykernel)",
   "language": "python",
   "name": "python3"
  },
  "language_info": {
   "codemirror_mode": {
    "name": "ipython",
    "version": 3
   },
   "file_extension": ".py",
   "mimetype": "text/x-python",
   "name": "python",
   "nbconvert_exporter": "python",
   "pygments_lexer": "ipython3",
   "version": "3.12.2"
  }
 },
 "nbformat": 4,
 "nbformat_minor": 5
}
